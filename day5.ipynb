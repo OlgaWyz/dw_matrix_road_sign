{
  "nbformat": 4,
  "nbformat_minor": 0,
  "metadata": {
    "colab": {
      "name": "day5.ipynb",
      "provenance": [],
      "collapsed_sections": [],
      "mount_file_id": "1qobXlZSGU7Rm397Wd6EWTw61Oq2Newf-",
      "authorship_tag": "ABX9TyOVE3PhoUJw533R8uBGxBJS",
      "include_colab_link": true
    },
    "kernelspec": {
      "name": "python3",
      "display_name": "Python 3"
    },
    "accelerator": "GPU"
  },
  "cells": [
    {
      "cell_type": "markdown",
      "metadata": {
        "id": "view-in-github",
        "colab_type": "text"
      },
      "source": [
        "<a href=\"https://colab.research.google.com/github/OlgaWyz/dw_matrix_road_sign/blob/master/day5.ipynb\" target=\"_parent\"><img src=\"https://colab.research.google.com/assets/colab-badge.svg\" alt=\"Open In Colab\"/></a>"
      ]
    },
    {
      "cell_type": "code",
      "metadata": {
        "id": "5p5YwktF2EdL",
        "colab_type": "code",
        "colab": {
          "base_uri": "https://localhost:8080/",
          "height": 170
        },
        "outputId": "c9ba2454-965f-4891-fcc7-8ff2a0591cd7"
      },
      "source": [
        "!pip install hyperopt"
      ],
      "execution_count": 1,
      "outputs": [
        {
          "output_type": "stream",
          "text": [
            "Requirement already satisfied: hyperopt in /usr/local/lib/python3.6/dist-packages (0.1.2)\n",
            "Requirement already satisfied: pymongo in /usr/local/lib/python3.6/dist-packages (from hyperopt) (3.10.1)\n",
            "Requirement already satisfied: numpy in /usr/local/lib/python3.6/dist-packages (from hyperopt) (1.18.2)\n",
            "Requirement already satisfied: tqdm in /usr/local/lib/python3.6/dist-packages (from hyperopt) (4.38.0)\n",
            "Requirement already satisfied: scipy in /usr/local/lib/python3.6/dist-packages (from hyperopt) (1.4.1)\n",
            "Requirement already satisfied: future in /usr/local/lib/python3.6/dist-packages (from hyperopt) (0.16.0)\n",
            "Requirement already satisfied: networkx in /usr/local/lib/python3.6/dist-packages (from hyperopt) (2.4)\n",
            "Requirement already satisfied: six in /usr/local/lib/python3.6/dist-packages (from hyperopt) (1.12.0)\n",
            "Requirement already satisfied: decorator>=4.3.0 in /usr/local/lib/python3.6/dist-packages (from networkx->hyperopt) (4.4.2)\n"
          ],
          "name": "stdout"
        }
      ]
    },
    {
      "cell_type": "code",
      "metadata": {
        "id": "RNx5AAHv2pES",
        "colab_type": "code",
        "colab": {}
      },
      "source": [
        "import pandas as pd\n",
        "import numpy as np\n",
        "import os\n",
        "import datetime\n",
        "\n",
        "import tensorflow as tf\n",
        "from tensorflow.keras.models import Sequential\n",
        "from tensorflow.keras.layers import Conv2D, MaxPool2D, Dense, Flatten, Dropout\n",
        "from tensorflow.keras.utils import to_categorical\n",
        "\n",
        "%reload_ext tensorboard\n",
        "\n",
        "import matplotlib.pyplot as plt\n",
        "from skimage import color, exposure\n",
        "\n",
        "from sklearn.metrics import accuracy_score\n",
        "\n",
        "from hyperopt import hp, STATUS_OK, tpe, Trials, fmin"
      ],
      "execution_count": 0,
      "outputs": []
    },
    {
      "cell_type": "code",
      "metadata": {
        "id": "D0Uvxuzd2pJn",
        "colab_type": "code",
        "colab": {
          "base_uri": "https://localhost:8080/",
          "height": 34
        },
        "outputId": "55b1d538-add8-458b-c3a4-00ca2266ecaf"
      },
      "source": [
        "cd '/content/drive/My Drive/Colab Notebooks/matrix/matrix_three/dw_matrix_road_sign'"
      ],
      "execution_count": 3,
      "outputs": [
        {
          "output_type": "stream",
          "text": [
            "/content/drive/My Drive/Colab Notebooks/matrix/matrix_three/dw_matrix_road_sign\n"
          ],
          "name": "stdout"
        }
      ]
    },
    {
      "cell_type": "code",
      "metadata": {
        "id": "XeoZ-4kV2pNv",
        "colab_type": "code",
        "colab": {}
      },
      "source": [
        "train = pd.read_pickle('data/train.p')\n",
        "test = pd.read_pickle('data/test.p')\n",
        "\n",
        "X_train, y_train = train['features'], train['labels']\n",
        "X_test, y_test = test['features'], test['labels']"
      ],
      "execution_count": 0,
      "outputs": []
    },
    {
      "cell_type": "code",
      "metadata": {
        "id": "OHYh09PEc9hy",
        "colab_type": "code",
        "colab": {}
      },
      "source": [
        "if y_train.ndim == 1:y_train = to_categorical(y_train)\n",
        "if y_test.ndim == 1:y_test = to_categorical(y_test)\n",
        "\n",
        "input_shape = X_train.shape[1:]\n",
        "num_classes = y_train.shape[1]"
      ],
      "execution_count": 0,
      "outputs": []
    },
    {
      "cell_type": "code",
      "metadata": {
        "colab_type": "code",
        "id": "dxF173r3-MeY",
        "colab": {}
      },
      "source": [
        "def train_model(model, X_train, y_train, params_fit={}):\n",
        "  model.compile(loss='categorical_crossentropy', optimizer='Adam', metrics=['accuracy'])\n",
        "  \n",
        "\n",
        "  logdir = os.path.join(\"logs\", datetime.datetime.now().strftime(\"%Y%m%d-%B%M%S\"))\n",
        "  tensorboard_callback = tf.keras.callbacks.TensorBoard(logdir, histogram_freq=1)\n",
        "\n",
        "  model.fit(\n",
        "      X_train, \n",
        "      y_train,\n",
        "      batch_size=params_fit.get('batch_size', 128),\n",
        "      epochs=params_fit.get('epochs', 5),\n",
        "      verbose=params_fit.get('verbose', 1),\n",
        "      validation_data=params_fit.get('validation_data', (X_train, y_train)),\n",
        "      callbacks=[tensorboard_callback]\n",
        "      )\n",
        "  \n",
        "  return model\n",
        "\n",
        "def predict(model_tarined, X_test, y_test, scoring=accuracy_score):\n",
        "\n",
        "  y_test_norm = np.argmax(y_test, axis=1)\n",
        "\n",
        "  y_pred_prob = model_trained.predict(X_test)\n",
        "  y_pred = np.argmax(y_pred_prob, axis=1)\n",
        "\n",
        "  return scoring(y_test_norm, y_pred)"
      ],
      "execution_count": 0,
      "outputs": []
    },
    {
      "cell_type": "code",
      "metadata": {
        "id": "Iv_tMfkH2pQp",
        "colab_type": "code",
        "colab": {}
      },
      "source": [
        "def get_cnn_v5(input_shape, num_classes):\n",
        "  return Sequential([\n",
        "    Conv2D(filters=32, kernel_size=(3,3), activation='relu', input_shape=input_shape),\n",
        "    Conv2D(filters=32, kernel_size=(3,3), activation='relu', input_shape=input_shape),\n",
        "    Conv2D(filters=32, kernel_size=(3,3), activation='relu', padding='same'),\n",
        "    MaxPool2D(),\n",
        "    Dropout(0.3),\n",
        "\n",
        "    Flatten(),\n",
        "\n",
        "    Dense(1024, activation='relu'),\n",
        "    Dropout(0.3),\n",
        "\n",
        "    Dense(1024, activation='relu'),\n",
        "    Dropout(0.3),\n",
        "\n",
        "    Dense(num_classes, activation='softmax'),\n",
        "  ])"
      ],
      "execution_count": 0,
      "outputs": []
    },
    {
      "cell_type": "code",
      "metadata": {
        "id": "ajCL00l22pTh",
        "colab_type": "code",
        "colab": {
          "base_uri": "https://localhost:8080/",
          "height": 204
        },
        "outputId": "e93ad942-4b79-49d0-cab0-efabc15fe15c"
      },
      "source": [
        "model = get_cnn_v5(input_shape, num_classes)\n",
        "model_trained = train_model(model, X_train, y_train)\n",
        "\n",
        "predict(model_trained, X_test, y_test)"
      ],
      "execution_count": 11,
      "outputs": [
        {
          "output_type": "stream",
          "text": [
            "Epoch 1/5\n",
            "272/272 [==============================] - 5s 17ms/step - loss: 1.6369 - accuracy: 0.6657 - val_loss: 0.1780 - val_accuracy: 0.9616\n",
            "Epoch 2/5\n",
            "272/272 [==============================] - 4s 16ms/step - loss: 0.2852 - accuracy: 0.9192 - val_loss: 0.0970 - val_accuracy: 0.9795\n",
            "Epoch 3/5\n",
            "272/272 [==============================] - 4s 16ms/step - loss: 0.1637 - accuracy: 0.9540 - val_loss: 0.0231 - val_accuracy: 0.9949\n",
            "Epoch 4/5\n",
            "272/272 [==============================] - 4s 16ms/step - loss: 0.1068 - accuracy: 0.9719 - val_loss: 0.0311 - val_accuracy: 0.9949\n",
            "Epoch 5/5\n",
            "272/272 [==============================] - 4s 16ms/step - loss: 0.0964 - accuracy: 0.9727 - val_loss: 0.0237 - val_accuracy: 0.9929\n"
          ],
          "name": "stdout"
        },
        {
          "output_type": "execute_result",
          "data": {
            "text/plain": [
              "0.9321995464852608"
            ]
          },
          "metadata": {
            "tags": []
          },
          "execution_count": 11
        }
      ]
    },
    {
      "cell_type": "code",
      "metadata": {
        "id": "dxkD_gPk2pZU",
        "colab_type": "code",
        "colab": {
          "base_uri": "https://localhost:8080/",
          "height": 51
        },
        "outputId": "3a31d04f-1bb1-4840-8d3a-1f87629d2e22"
      },
      "source": [
        "model_trained.evaluate(X_test, y_test)"
      ],
      "execution_count": 12,
      "outputs": [
        {
          "output_type": "stream",
          "text": [
            "138/138 [==============================] - 1s 4ms/step - loss: 0.3137 - accuracy: 0.9322\n"
          ],
          "name": "stdout"
        },
        {
          "output_type": "execute_result",
          "data": {
            "text/plain": [
              "[0.31366750597953796, 0.9321995377540588]"
            ]
          },
          "metadata": {
            "tags": []
          },
          "execution_count": 12
        }
      ]
    },
    {
      "cell_type": "code",
      "metadata": {
        "id": "PylrmylZCblB",
        "colab_type": "code",
        "colab": {}
      },
      "source": [
        "def get_model(params):\n",
        "  return Sequential([\n",
        "    Conv2D(filters=32, kernel_size=(3,3), activation='relu', input_shape=input_shape),\n",
        "    Conv2D(filters=32, kernel_size=(3,3), activation='relu', padding='same'),\n",
        "    MaxPool2D(),\n",
        "    Dropout(params['dropout_cnn_block_one']),\n",
        "\n",
        "    Conv2D(filters=64, kernel_size=(3,3), activation='relu', input_shape=input_shape),\n",
        "    Conv2D(filters=64, kernel_size=(3,3), activation='relu', padding='same'),\n",
        "    MaxPool2D(),\n",
        "    Dropout(params['dropout_cnn_block_two']),\n",
        "\n",
        "    Conv2D(filters=128, kernel_size=(3,3), activation='relu', input_shape=input_shape),\n",
        "    Conv2D(filters=128, kernel_size=(3,3), activation='relu', padding='same'),\n",
        "    MaxPool2D(),\n",
        "    Dropout(params['dropout_cnn_block_three']),\n",
        "\n",
        "    Flatten(),\n",
        "\n",
        "    Dense(1024, activation='relu'),\n",
        "    Dropout(params['dropout_dense_block_one']),\n",
        "\n",
        "    Dense(1024, activation='relu'),\n",
        "    Dropout(params['dropout_dense_block_two']),\n",
        "\n",
        "    Dense(num_classes, activation='softmax'),\n",
        "  ])"
      ],
      "execution_count": 0,
      "outputs": []
    },
    {
      "cell_type": "code",
      "metadata": {
        "id": "UkF9TC1kCbt3",
        "colab_type": "code",
        "colab": {}
      },
      "source": [
        "def func_obj(params):\n",
        "  model = get_model(params)\n",
        "  model.compile(loss='categorical_crossentropy', optimizer='Adam', metrics=['accuracy'])\n",
        "  \n",
        "  model.fit(\n",
        "      X_train, \n",
        "      y_train,\n",
        "      batch_size=int(params.get('batch_size', 128)),\n",
        "      epochs=5,\n",
        "      verbose=0\n",
        "      )\n",
        "  \n",
        "  score = model.evaluate(X_test, y_test, verbose=0)\n",
        "  accuracy = score[1]\n",
        "  print(params, 'accuracy={}'.format(accuracy))\n",
        "  \n",
        "  return {'loss': -accuracy, 'status': STATUS_OK, 'model': model}"
      ],
      "execution_count": 0,
      "outputs": []
    },
    {
      "cell_type": "code",
      "metadata": {
        "id": "7RNeJONJCbxs",
        "colab_type": "code",
        "colab": {
          "base_uri": "https://localhost:8080/",
          "height": 1000
        },
        "outputId": "f9e66e52-9a4c-409d-fd0b-e68dd70dcfc1"
      },
      "source": [
        "space = {\n",
        "    'batch_size': hp.quniform('batch_size', 100, 200, 10),\n",
        "    'dropout_cnn_block_one': hp.uniform('dropout_cnn_block_one', 0.3, 0.5),\n",
        "    'dropout_cnn_block_two': hp.uniform('dropout_cnn_block_two', 0.3, 0.5),\n",
        "    'dropout_cnn_block_three': hp.uniform('dropout_cnn_block_three', 0.3, 0.5),\n",
        "\n",
        "    'dropout_dense_block_one': hp.uniform('dropout_dense_block_one', 0.3, 0.7),\n",
        "    'dropout_dense_block_two': hp.uniform('dropout_dense_block_two', 0.3, 0.7),\n",
        "}\n",
        "\n",
        "best = fmin(\n",
        "    func_obj,\n",
        "    space,\n",
        "    tpe.suggest,\n",
        "    30,\n",
        "    Trials()\n",
        ")"
      ],
      "execution_count": 23,
      "outputs": [
        {
          "output_type": "stream",
          "text": [
            "{'batch_size': 160.0, 'dropout_cnn_block_one': 0.4576438831579421, 'dropout_cnn_block_three': 0.32464732673852253, 'dropout_cnn_block_two': 0.4666632446569522, 'dropout_dense_block_one': 0.5076577487963636, 'dropout_dense_block_two': 0.4705653496526514}\n",
            "accuracy=0.9501133561134338\n",
            "{'batch_size': 130.0, 'dropout_cnn_block_one': 0.4539524769656502, 'dropout_cnn_block_three': 0.34835063488854917, 'dropout_cnn_block_two': 0.3115653541629421, 'dropout_dense_block_one': 0.6850974811744208, 'dropout_dense_block_two': 0.5455886855616123}\n",
            "accuracy=0.9496598839759827\n",
            "{'batch_size': 130.0, 'dropout_cnn_block_one': 0.3360756998454498, 'dropout_cnn_block_three': 0.4588567639882932, 'dropout_cnn_block_two': 0.3195011112926559, 'dropout_dense_block_one': 0.6118391595150972, 'dropout_dense_block_two': 0.5175639211890924}\n",
            "accuracy=0.9462584853172302\n",
            "{'batch_size': 110.0, 'dropout_cnn_block_one': 0.4612010933683765, 'dropout_cnn_block_three': 0.4690356707093435, 'dropout_cnn_block_two': 0.33120701617937104, 'dropout_dense_block_one': 0.6200527998179581, 'dropout_dense_block_two': 0.30974852551282406}\n",
            "accuracy=0.9238095283508301\n",
            "{'batch_size': 150.0, 'dropout_cnn_block_one': 0.4453629390713403, 'dropout_cnn_block_three': 0.46433517705779026, 'dropout_cnn_block_two': 0.47887978857650615, 'dropout_dense_block_one': 0.37864625952416536, 'dropout_dense_block_two': 0.40208679392103347}\n",
            "accuracy=0.9480725526809692\n",
            "{'batch_size': 180.0, 'dropout_cnn_block_one': 0.33725569462063204, 'dropout_cnn_block_three': 0.4810995536219692, 'dropout_cnn_block_two': 0.484106611616593, 'dropout_dense_block_one': 0.5603230544677661, 'dropout_dense_block_two': 0.3146377960954739}\n",
            "accuracy=0.9290249347686768\n",
            "{'batch_size': 110.0, 'dropout_cnn_block_one': 0.3532015517420623, 'dropout_cnn_block_three': 0.39225395709108796, 'dropout_cnn_block_two': 0.41692482581391166, 'dropout_dense_block_one': 0.608577104803139, 'dropout_dense_block_two': 0.33114970521835774}\n",
            "accuracy=0.960544228553772\n",
            "{'batch_size': 150.0, 'dropout_cnn_block_one': 0.4793922701252004, 'dropout_cnn_block_three': 0.413903836037428, 'dropout_cnn_block_two': 0.40504638676514104, 'dropout_dense_block_one': 0.48058091718839024, 'dropout_dense_block_two': 0.4216076091747105}\n",
            "accuracy=0.938548743724823\n",
            "{'batch_size': 200.0, 'dropout_cnn_block_one': 0.4844118897092191, 'dropout_cnn_block_three': 0.43448859275787544, 'dropout_cnn_block_two': 0.4058231636517699, 'dropout_dense_block_one': 0.6076976238234395, 'dropout_dense_block_two': 0.375883988541992}\n",
            "accuracy=0.898639440536499\n",
            "{'batch_size': 120.0, 'dropout_cnn_block_one': 0.4895937036859135, 'dropout_cnn_block_three': 0.487657680788419, 'dropout_cnn_block_two': 0.32455851212194203, 'dropout_dense_block_one': 0.6811171278660089, 'dropout_dense_block_two': 0.37616699482835814}\n",
            "accuracy=0.9553288221359253\n",
            "{'batch_size': 110.0, 'dropout_cnn_block_one': 0.4622068709239787, 'dropout_cnn_block_three': 0.42325411654306405, 'dropout_cnn_block_two': 0.3270570608817483, 'dropout_dense_block_one': 0.6136173239558353, 'dropout_dense_block_two': 0.6508332544568586}\n",
            "accuracy=0.9317460060119629\n",
            "{'batch_size': 110.0, 'dropout_cnn_block_one': 0.3620967532609264, 'dropout_cnn_block_three': 0.39460819849764517, 'dropout_cnn_block_two': 0.4976569757204803, 'dropout_dense_block_one': 0.5530538452892799, 'dropout_dense_block_two': 0.3488202790372884}\n",
            "accuracy=0.8848072290420532\n",
            "{'batch_size': 120.0, 'dropout_cnn_block_one': 0.47972683413188455, 'dropout_cnn_block_three': 0.3268694180468693, 'dropout_cnn_block_two': 0.40444850702801616, 'dropout_dense_block_one': 0.6909536672769651, 'dropout_dense_block_two': 0.3310205459185239}\n",
            "accuracy=0.9417233467102051\n",
            "{'batch_size': 190.0, 'dropout_cnn_block_one': 0.3494632756277562, 'dropout_cnn_block_three': 0.35714159896623393, 'dropout_cnn_block_two': 0.45735655256161345, 'dropout_dense_block_one': 0.5824686511972452, 'dropout_dense_block_two': 0.6615942131016362}\n",
            "accuracy=0.9523809552192688\n",
            "{'batch_size': 180.0, 'dropout_cnn_block_one': 0.3244689066511241, 'dropout_cnn_block_three': 0.3951863802324814, 'dropout_cnn_block_two': 0.3997831086097729, 'dropout_dense_block_one': 0.5059969383976646, 'dropout_dense_block_two': 0.6842747200901725}\n",
            "accuracy=0.882539689540863\n",
            "{'batch_size': 120.0, 'dropout_cnn_block_one': 0.40574689923744556, 'dropout_cnn_block_three': 0.41467669755898307, 'dropout_cnn_block_two': 0.4728661171923727, 'dropout_dense_block_one': 0.3816175877563493, 'dropout_dense_block_two': 0.3644982737582844}\n",
            "accuracy=0.9156462550163269\n",
            "{'batch_size': 190.0, 'dropout_cnn_block_one': 0.43218237656142866, 'dropout_cnn_block_three': 0.4402198837533281, 'dropout_cnn_block_two': 0.3366002622599605, 'dropout_dense_block_one': 0.680515107154954, 'dropout_dense_block_two': 0.5888288661995003}\n",
            "accuracy=0.8943310379981995\n",
            "{'batch_size': 160.0, 'dropout_cnn_block_one': 0.3308701727582868, 'dropout_cnn_block_three': 0.46086465103523766, 'dropout_cnn_block_two': 0.38569004666589124, 'dropout_dense_block_one': 0.5462602707375181, 'dropout_dense_block_two': 0.5481157686273409}\n",
            "accuracy=0.9535147547721863\n",
            "{'batch_size': 150.0, 'dropout_cnn_block_one': 0.4368760227075102, 'dropout_cnn_block_three': 0.3454371332345949, 'dropout_cnn_block_two': 0.3306182181214783, 'dropout_dense_block_one': 0.5913134042055427, 'dropout_dense_block_two': 0.6131769361975044}\n",
            "accuracy=0.9526076912879944\n",
            "{'batch_size': 150.0, 'dropout_cnn_block_one': 0.36235762093325485, 'dropout_cnn_block_three': 0.49120759036586936, 'dropout_cnn_block_two': 0.43995283711370037, 'dropout_dense_block_one': 0.45119077814909225, 'dropout_dense_block_two': 0.6158224008234757}\n",
            "accuracy=0.9510204195976257\n",
            "{'batch_size': 130.0, 'dropout_cnn_block_one': 0.39597257017522375, 'dropout_cnn_block_three': 0.3747387391712823, 'dropout_cnn_block_two': 0.3654483880681391, 'dropout_dense_block_one': 0.6521802671600442, 'dropout_dense_block_two': 0.4507559623299803}\n",
            "accuracy=0.9147392511367798\n",
            "{'batch_size': 100.0, 'dropout_cnn_block_one': 0.30693884020295104, 'dropout_cnn_block_three': 0.37530711735153577, 'dropout_cnn_block_two': 0.42913686563821374, 'dropout_dense_block_one': 0.6506324022819805, 'dropout_dense_block_two': 0.3013367050936896}\n",
            "accuracy=0.976190447807312\n",
            "{'batch_size': 110.0, 'dropout_cnn_block_one': 0.3081300861636919, 'dropout_cnn_block_three': 0.37176035013416814, 'dropout_cnn_block_two': 0.4287411401731328, 'dropout_dense_block_one': 0.6479343882463559, 'dropout_dense_block_two': 0.30130235852684134}\n",
            "accuracy=0.9650793671607971\n",
            "{'batch_size': 140.0, 'dropout_cnn_block_one': 0.3009587644231257, 'dropout_cnn_block_three': 0.30657510426020534, 'dropout_cnn_block_two': 0.43667033019915863, 'dropout_dense_block_one': 0.3106526956071739, 'dropout_dense_block_two': 0.41013400810789513}\n",
            "accuracy=0.956916093826294\n",
            "{'batch_size': 100.0, 'dropout_cnn_block_one': 0.3004385750354641, 'dropout_cnn_block_three': 0.37209781006294235, 'dropout_cnn_block_two': 0.43529688254057664, 'dropout_dense_block_one': 0.6484454295938268, 'dropout_dense_block_two': 0.45776113333610513}\n",
            "accuracy=0.9519274234771729\n",
            "{'batch_size': 100.0, 'dropout_cnn_block_one': 0.3137780869342595, 'dropout_cnn_block_three': 0.3748360238717663, 'dropout_cnn_block_two': 0.3739971302950545, 'dropout_dense_block_one': 0.6510948046834625, 'dropout_dense_block_two': 0.3021135697482754}\n",
            "accuracy=0.9358276724815369\n",
            "{'batch_size': 100.0, 'dropout_cnn_block_one': 0.3808733522243405, 'dropout_cnn_block_three': 0.3299090471715983, 'dropout_cnn_block_two': 0.4245646431794384, 'dropout_dense_block_one': 0.4629531021252761, 'dropout_dense_block_two': 0.4292879033527389}\n",
            "accuracy=0.9598639607429504\n",
            "{'batch_size': 100.0, 'dropout_cnn_block_one': 0.31225061683696537, 'dropout_cnn_block_three': 0.30323663937690465, 'dropout_cnn_block_two': 0.45205065050346643, 'dropout_dense_block_one': 0.5308592991256843, 'dropout_dense_block_two': 0.4966758117956163}\n",
            "accuracy=0.9657596349716187\n",
            "{'batch_size': 140.0, 'dropout_cnn_block_one': 0.3172324642463306, 'dropout_cnn_block_three': 0.3005324652381165, 'dropout_cnn_block_two': 0.4565570455134914, 'dropout_dense_block_one': 0.41742387269794123, 'dropout_dense_block_two': 0.4864682506617249}\n",
            "accuracy=0.960544228553772\n",
            "{'batch_size': 160.0, 'dropout_cnn_block_one': 0.38145849288798384, 'dropout_cnn_block_three': 0.3124538662856303, 'dropout_cnn_block_two': 0.4524528415393457, 'dropout_dense_block_one': 0.5215206377686008, 'dropout_dense_block_two': 0.5151639138984105}\n",
            "accuracy=0.9517006874084473\n",
            "100%|██████████| 30/30 [05:39<00:00, 11.33s/it, best loss: -0.976190447807312]\n"
          ],
          "name": "stdout"
        }
      ]
    }
  ]
}